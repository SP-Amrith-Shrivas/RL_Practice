{
 "cells": [
  {
   "cell_type": "code",
   "execution_count": 1,
   "metadata": {},
   "outputs": [],
   "source": [
    "import numpy as np"
   ]
  },
  {
   "cell_type": "code",
   "execution_count": 2,
   "metadata": {},
   "outputs": [],
   "source": [
    "R=np.matrix([[-1, 0, -1, -1, -1, -1, -1, -1],\n",
    "             [0, -1, 0, -1, -1, 0, -1, -1],\n",
    "             [-1, 0, -1, 0, -1, -1, -1, 100],\n",
    "             [-1, -1, 0, -1, -1, -1, -1, -1],\n",
    "             [-1, -1, -1, -1, -1, 0, -1, -1],\n",
    "             [-1, 0, -1, -1, 0, -1, 0, -1],\n",
    "             [-1, -1, -1, -1, -1, 0, -1, -1],\n",
    "             [-1, -1, 0, -1, -1, -1, -1, 100]])"
   ]
  },
  {
   "cell_type": "code",
   "execution_count": 3,
   "metadata": {},
   "outputs": [
    {
     "data": {
      "text/plain": [
       "matrix([[ -1,   0,  -1,  -1,  -1,  -1,  -1,  -1],\n",
       "        [  0,  -1,   0,  -1,  -1,   0,  -1,  -1],\n",
       "        [ -1,   0,  -1,   0,  -1,  -1,  -1, 100],\n",
       "        [ -1,  -1,   0,  -1,  -1,  -1,  -1,  -1],\n",
       "        [ -1,  -1,  -1,  -1,  -1,   0,  -1,  -1],\n",
       "        [ -1,   0,  -1,  -1,   0,  -1,   0,  -1],\n",
       "        [ -1,  -1,  -1,  -1,  -1,   0,  -1,  -1],\n",
       "        [ -1,  -1,   0,  -1,  -1,  -1,  -1, 100]])"
      ]
     },
     "execution_count": 3,
     "metadata": {},
     "output_type": "execute_result"
    }
   ],
   "source": [
    "R #reward matrix"
   ]
  },
  {
   "cell_type": "code",
   "execution_count": 4,
   "metadata": {},
   "outputs": [
    {
     "data": {
      "text/plain": [
       "(8, 8)"
      ]
     },
     "execution_count": 4,
     "metadata": {},
     "output_type": "execute_result"
    }
   ],
   "source": [
    "R.shape"
   ]
  },
  {
   "cell_type": "code",
   "execution_count": 5,
   "metadata": {},
   "outputs": [],
   "source": [
    "gamma=0.8 #value for gamma"
   ]
  },
  {
   "cell_type": "code",
   "execution_count": 6,
   "metadata": {},
   "outputs": [
    {
     "data": {
      "text/plain": [
       "matrix([[0., 0., 0., 0., 0., 0., 0., 0.],\n",
       "        [0., 0., 0., 0., 0., 0., 0., 0.],\n",
       "        [0., 0., 0., 0., 0., 0., 0., 0.],\n",
       "        [0., 0., 0., 0., 0., 0., 0., 0.],\n",
       "        [0., 0., 0., 0., 0., 0., 0., 0.],\n",
       "        [0., 0., 0., 0., 0., 0., 0., 0.],\n",
       "        [0., 0., 0., 0., 0., 0., 0., 0.],\n",
       "        [0., 0., 0., 0., 0., 0., 0., 0.]])"
      ]
     },
     "execution_count": 6,
     "metadata": {},
     "output_type": "execute_result"
    }
   ],
   "source": [
    "Q=np.matrix(np.zeros([8,8]))\n",
    "Q #Q matrix"
   ]
  },
  {
   "cell_type": "code",
   "execution_count": 7,
   "metadata": {},
   "outputs": [],
   "source": [
    "initial_state=0"
   ]
  },
  {
   "cell_type": "code",
   "execution_count": 8,
   "metadata": {},
   "outputs": [],
   "source": [
    "def available_actions(state):\n",
    "    current_state_row=R[state,]\n",
    "    av_act=np.where(current_state_row>=0)[1]\n",
    "    return av_act"
   ]
  },
  {
   "cell_type": "code",
   "execution_count": 9,
   "metadata": {},
   "outputs": [
    {
     "data": {
      "text/plain": [
       "array([1], dtype=int64)"
      ]
     },
     "execution_count": 9,
     "metadata": {},
     "output_type": "execute_result"
    }
   ],
   "source": [
    "available_act=available_actions(initial_state)\n",
    "available_act"
   ]
  },
  {
   "cell_type": "code",
   "execution_count": 10,
   "metadata": {},
   "outputs": [],
   "source": [
    "def choose_next_action(available_action_range):\n",
    "    next_action=int(np.random.choice(available_act,1))\n",
    "    return next_action"
   ]
  },
  {
   "cell_type": "code",
   "execution_count": 11,
   "metadata": {},
   "outputs": [
    {
     "data": {
      "text/plain": [
       "1"
      ]
     },
     "execution_count": 11,
     "metadata": {},
     "output_type": "execute_result"
    }
   ],
   "source": [
    "action=choose_next_action(available_act)\n",
    "action"
   ]
  },
  {
   "cell_type": "code",
   "execution_count": 12,
   "metadata": {},
   "outputs": [],
   "source": [
    "def update(current_state, gamma, action):\n",
    "    global Q\n",
    "    max_index=np.where(Q[action,]==np.max(Q[action,]))[1]\n",
    "    if max_index.shape[0]>1:\n",
    "        max_index=int(np.random.choice(max_index,1))\n",
    "    else:\n",
    "        max_index=int(max_index)\n",
    "    max_value=Q[action,max_index]\n",
    "    #Q learning formula\n",
    "    Q[current_state,action]=R[current_state,action]+gamma*max_value"
   ]
  },
  {
   "cell_type": "code",
   "execution_count": 13,
   "metadata": {},
   "outputs": [],
   "source": [
    "update(initial_state,gamma,action)"
   ]
  },
  {
   "cell_type": "code",
   "execution_count": 14,
   "metadata": {},
   "outputs": [],
   "source": [
    "for i in range(10000):\n",
    "    current_state=np.random.randint(0,int(Q.shape[0]))\n",
    "    available_act=available_actions(current_state)\n",
    "    action=choose_next_action(available_act)\n",
    "    update(current_state,gamma,action)"
   ]
  },
  {
   "cell_type": "code",
   "execution_count": 15,
   "metadata": {},
   "outputs": [
    {
     "name": "stdout",
     "output_type": "stream",
     "text": [
      "Trained q matrix after 10000(iteration)\n",
      "[[  0.  320.    0.    0.    0.    0.    0.    0. ]\n",
      " [256.    0.  400.    0.    0.  256.    0.    0. ]\n",
      " [  0.  320.    0.  320.    0.    0.    0.  500. ]\n",
      " [  0.    0.  400.    0.    0.    0.    0.    0. ]\n",
      " [  0.    0.    0.    0.    0.  256.    0.    0. ]\n",
      " [  0.  320.    0.    0.  204.8   0.  204.8   0. ]\n",
      " [  0.    0.    0.    0.    0.  256.    0.    0. ]\n",
      " [  0.    0.  400.    0.    0.    0.    0.  500. ]]\n"
     ]
    }
   ],
   "source": [
    "print(\"Trained q matrix after 10000(iteration)\")\n",
    "print(Q)"
   ]
  },
  {
   "cell_type": "code",
   "execution_count": 16,
   "metadata": {},
   "outputs": [
    {
     "name": "stdout",
     "output_type": "stream",
     "text": [
      "[[  0.    64.     0.     0.     0.     0.     0.     0.  ]\n",
      " [ 51.2    0.    80.     0.     0.    51.2    0.     0.  ]\n",
      " [  0.    64.     0.    64.     0.     0.     0.   100.  ]\n",
      " [  0.     0.    80.     0.     0.     0.     0.     0.  ]\n",
      " [  0.     0.     0.     0.     0.    51.2    0.     0.  ]\n",
      " [  0.    64.     0.     0.    40.96   0.    40.96   0.  ]\n",
      " [  0.     0.     0.     0.     0.    51.2    0.     0.  ]\n",
      " [  0.     0.    80.     0.     0.     0.     0.   100.  ]]\n"
     ]
    }
   ],
   "source": [
    "print(Q/np.max(Q)*100)"
   ]
  },
  {
   "cell_type": "code",
   "execution_count": 17,
   "metadata": {},
   "outputs": [
    {
     "name": "stdout",
     "output_type": "stream",
     "text": [
      "Enter the state to find path to exit:3\n"
     ]
    }
   ],
   "source": [
    "current_state=int(input(\"Enter the state to find path to exit:\"))"
   ]
  },
  {
   "cell_type": "code",
   "execution_count": 18,
   "metadata": {},
   "outputs": [],
   "source": [
    "goal_state=7\n",
    "steps=[current_state]"
   ]
  },
  {
   "cell_type": "code",
   "execution_count": 19,
   "metadata": {},
   "outputs": [],
   "source": [
    "while current_state!=goal_state:\n",
    "    global steps\n",
    "    next_step_index=np.where(Q[current_state,]==np.max(Q[current_state,]))[1]\n",
    "    \n",
    "    if next_step_index.shape[0]>1:\n",
    "        next_step_index=int(np.random.choice(next_Step_index,size=1))\n",
    "    else:\n",
    "        next_step_index=int(next_step_index)\n",
    "    current_state=next_step_index\n",
    "    steps.append(current_state)"
   ]
  },
  {
   "cell_type": "code",
   "execution_count": 20,
   "metadata": {},
   "outputs": [
    {
     "name": "stdout",
     "output_type": "stream",
     "text": [
      "Selected path: [3, 2, 7]\n"
     ]
    }
   ],
   "source": [
    "print(\"Selected path:\",steps)"
   ]
  }
 ],
 "metadata": {
  "kernelspec": {
   "display_name": "Python 3",
   "language": "python",
   "name": "python3"
  },
  "language_info": {
   "codemirror_mode": {
    "name": "ipython",
    "version": 3
   },
   "file_extension": ".py",
   "mimetype": "text/x-python",
   "name": "python",
   "nbconvert_exporter": "python",
   "pygments_lexer": "ipython3",
   "version": "3.8.3"
  }
 },
 "nbformat": 4,
 "nbformat_minor": 4
}
